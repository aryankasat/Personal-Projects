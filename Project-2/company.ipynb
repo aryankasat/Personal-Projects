{
 "cells": [
  {
   "cell_type": "code",
   "execution_count": 2,
   "metadata": {},
   "outputs": [],
   "source": [
    "import numpy as np\n",
    "import pandas as pd\n",
    "import matplotlib.pyplot as plt\n",
    "import seaborn as sns   "
   ]
  },
  {
   "cell_type": "code",
   "execution_count": 3,
   "metadata": {},
   "outputs": [],
   "source": [
    "data = pd.read_csv(\"Company.csv\")"
   ]
  },
  {
   "cell_type": "markdown",
   "metadata": {},
   "source": [
    "Data Cleaning - Removal of NULL data values, checking for duplicating and refining the data"
   ]
  },
  {
   "cell_type": "code",
   "execution_count": 4,
   "metadata": {},
   "outputs": [
    {
     "data": {
      "text/plain": [
       "Startup           object\n",
       "Product           object\n",
       "Funding           object\n",
       "Event             object\n",
       "Result            object\n",
       "OperatingState    object\n",
       "dtype: object"
      ]
     },
     "execution_count": 4,
     "metadata": {},
     "output_type": "execute_result"
    }
   ],
   "source": [
    "data.dtypes"
   ]
  },
  {
   "cell_type": "code",
   "execution_count": 5,
   "metadata": {},
   "outputs": [
    {
     "data": {
      "text/plain": [
       "Startup             0\n",
       "Product             6\n",
       "Funding           214\n",
       "Event               0\n",
       "Result              0\n",
       "OperatingState      0\n",
       "dtype: int64"
      ]
     },
     "execution_count": 5,
     "metadata": {},
     "output_type": "execute_result"
    }
   ],
   "source": [
    "data.isnull().sum()"
   ]
  },
  {
   "cell_type": "code",
   "execution_count": 6,
   "metadata": {},
   "outputs": [],
   "source": [
    "data['Funding'] = data['Funding'].fillna(\"$0M\")"
   ]
  },
  {
   "cell_type": "code",
   "execution_count": 7,
   "metadata": {},
   "outputs": [
    {
     "name": "stdout",
     "output_type": "stream",
     "text": [
      "0\n"
     ]
    }
   ],
   "source": [
    "duplicates = data.duplicated()\n",
    "\n",
    "print (duplicates.sum())"
   ]
  },
  {
   "cell_type": "code",
   "execution_count": 8,
   "metadata": {},
   "outputs": [],
   "source": [
    "data['Funding'] = data['Funding'].str[1:]"
   ]
  },
  {
   "cell_type": "code",
   "execution_count": 9,
   "metadata": {},
   "outputs": [],
   "source": [
    "#converting the funding to the integer values\n",
    "\n",
    "def convert_if_ends_with_M(value):\n",
    "    if value.endswith('M'):\n",
    "        return int(float(value[:-1]) * 1000)\n",
    "    else:\n",
    "        return int(float(value[:-1]) * 1000)\n",
    "\n",
    "# Apply the function to the column\n",
    "data['Funding (in thousand dollars)'] = data['Funding'].apply(convert_if_ends_with_M)\n",
    "\n",
    "new_data = data.drop(columns=['Funding'],axis=1)"
   ]
  },
  {
   "cell_type": "code",
   "execution_count": 10,
   "metadata": {},
   "outputs": [],
   "source": [
    "new_data['Product']= new_data['Product'].fillna('None')"
   ]
  },
  {
   "cell_type": "code",
   "execution_count": 11,
   "metadata": {},
   "outputs": [],
   "source": [
    "#storing none in events if participated in no events\n",
    "new_data['Event'] = new_data['Event'].apply(lambda x:\"None\" if x==\"-\" else x)"
   ]
  },
  {
   "cell_type": "code",
   "execution_count": 12,
   "metadata": {},
   "outputs": [],
   "source": [
    "# Function to extract event year\n",
    "def extract_last_four_as_integer(value):\n",
    "    if value!='None' and len(value) >= 4:\n",
    "        return int(float(value[-4:]))\n",
    "    else:\n",
    "        return None\n",
    "\n",
    "new_data['EventYear'] = new_data['Event'].apply(extract_last_four_as_integer)\n",
    "\n",
    "#funtion to find the event name and how old is the event\n",
    "new_data['EventName'] = new_data['Event'].str[:-4]\n",
    "new_data['EventAge'] = 2024 - new_data['EventYear']\n",
    "new_data['EventAge'] = new_data['EventAge'].fillna(0)\n",
    "\n",
    "clean_data = new_data.drop(columns=['Event', 'EventYear'],axis=1)"
   ]
  },
  {
   "cell_type": "code",
   "execution_count": 13,
   "metadata": {},
   "outputs": [
    {
     "data": {
      "text/html": [
       "<div>\n",
       "<style scoped>\n",
       "    .dataframe tbody tr th:only-of-type {\n",
       "        vertical-align: middle;\n",
       "    }\n",
       "\n",
       "    .dataframe tbody tr th {\n",
       "        vertical-align: top;\n",
       "    }\n",
       "\n",
       "    .dataframe thead th {\n",
       "        text-align: right;\n",
       "    }\n",
       "</style>\n",
       "<table border=\"1\" class=\"dataframe\">\n",
       "  <thead>\n",
       "    <tr style=\"text-align: right;\">\n",
       "      <th></th>\n",
       "      <th>Startup</th>\n",
       "      <th>Product</th>\n",
       "      <th>Result</th>\n",
       "      <th>OperatingState</th>\n",
       "      <th>Funding (in thousand dollars)</th>\n",
       "      <th>EventName</th>\n",
       "      <th>EventAge</th>\n",
       "    </tr>\n",
       "  </thead>\n",
       "  <tbody>\n",
       "    <tr>\n",
       "      <th>0</th>\n",
       "      <td>2600Hz</td>\n",
       "      <td>2600hz.com</td>\n",
       "      <td>Contestant</td>\n",
       "      <td>Operating</td>\n",
       "      <td>0</td>\n",
       "      <td>Disrupt SF</td>\n",
       "      <td>11.0</td>\n",
       "    </tr>\n",
       "    <tr>\n",
       "      <th>1</th>\n",
       "      <td>3DLT</td>\n",
       "      <td>3dlt.com</td>\n",
       "      <td>Contestant</td>\n",
       "      <td>Closed</td>\n",
       "      <td>630000</td>\n",
       "      <td>Disrupt NYC</td>\n",
       "      <td>11.0</td>\n",
       "    </tr>\n",
       "    <tr>\n",
       "      <th>2</th>\n",
       "      <td>3DPrinterOS</td>\n",
       "      <td>3dprinteros.com</td>\n",
       "      <td>Contestant</td>\n",
       "      <td>Operating</td>\n",
       "      <td>0</td>\n",
       "      <td>Disrupt SF</td>\n",
       "      <td>8.0</td>\n",
       "    </tr>\n",
       "    <tr>\n",
       "      <th>3</th>\n",
       "      <td>3Dprintler</td>\n",
       "      <td>3dprintler.com</td>\n",
       "      <td>Audience choice</td>\n",
       "      <td>Operating</td>\n",
       "      <td>1000</td>\n",
       "      <td>Disrupt NY</td>\n",
       "      <td>8.0</td>\n",
       "    </tr>\n",
       "    <tr>\n",
       "      <th>4</th>\n",
       "      <td>42 Technologies</td>\n",
       "      <td>42technologies.com</td>\n",
       "      <td>Contestant</td>\n",
       "      <td>Operating</td>\n",
       "      <td>0</td>\n",
       "      <td>Disrupt NYC</td>\n",
       "      <td>11.0</td>\n",
       "    </tr>\n",
       "    <tr>\n",
       "      <th>...</th>\n",
       "      <td>...</td>\n",
       "      <td>...</td>\n",
       "      <td>...</td>\n",
       "      <td>...</td>\n",
       "      <td>...</td>\n",
       "      <td>...</td>\n",
       "      <td>...</td>\n",
       "    </tr>\n",
       "    <tr>\n",
       "      <th>657</th>\n",
       "      <td>Zivity</td>\n",
       "      <td>zivity.com</td>\n",
       "      <td>Contestant</td>\n",
       "      <td>Operating</td>\n",
       "      <td>8000</td>\n",
       "      <td>TC40</td>\n",
       "      <td>17.0</td>\n",
       "    </tr>\n",
       "    <tr>\n",
       "      <th>658</th>\n",
       "      <td>Zmorph</td>\n",
       "      <td>zmorph3d.com</td>\n",
       "      <td>Audience choice</td>\n",
       "      <td>Operating</td>\n",
       "      <td>1000</td>\n",
       "      <td></td>\n",
       "      <td>0.0</td>\n",
       "    </tr>\n",
       "    <tr>\n",
       "      <th>659</th>\n",
       "      <td>Zocdoc</td>\n",
       "      <td>zocdoc.com</td>\n",
       "      <td>Contestant</td>\n",
       "      <td>Operating</td>\n",
       "      <td>223000</td>\n",
       "      <td>TC40</td>\n",
       "      <td>17.0</td>\n",
       "    </tr>\n",
       "    <tr>\n",
       "      <th>660</th>\n",
       "      <td>Zula</td>\n",
       "      <td>zulaapp.com</td>\n",
       "      <td>Audience choice</td>\n",
       "      <td>Operating</td>\n",
       "      <td>3400</td>\n",
       "      <td>Disrupt SF</td>\n",
       "      <td>11.0</td>\n",
       "    </tr>\n",
       "    <tr>\n",
       "      <th>661</th>\n",
       "      <td>Zumper</td>\n",
       "      <td>zumper.com</td>\n",
       "      <td>Finalist</td>\n",
       "      <td>Operating</td>\n",
       "      <td>31500</td>\n",
       "      <td>Disrupt SF</td>\n",
       "      <td>12.0</td>\n",
       "    </tr>\n",
       "  </tbody>\n",
       "</table>\n",
       "<p>662 rows × 7 columns</p>\n",
       "</div>"
      ],
      "text/plain": [
       "             Startup             Product           Result OperatingState  \\\n",
       "0             2600Hz          2600hz.com       Contestant      Operating   \n",
       "1               3DLT            3dlt.com       Contestant         Closed   \n",
       "2        3DPrinterOS     3dprinteros.com       Contestant      Operating   \n",
       "3         3Dprintler      3dprintler.com  Audience choice      Operating   \n",
       "4    42 Technologies  42technologies.com       Contestant      Operating   \n",
       "..               ...                 ...              ...            ...   \n",
       "657           Zivity          zivity.com       Contestant      Operating   \n",
       "658           Zmorph        zmorph3d.com  Audience choice      Operating   \n",
       "659           Zocdoc          zocdoc.com       Contestant      Operating   \n",
       "660             Zula         zulaapp.com  Audience choice      Operating   \n",
       "661           Zumper          zumper.com         Finalist      Operating   \n",
       "\n",
       "     Funding (in thousand dollars)     EventName  EventAge  \n",
       "0                                0   Disrupt SF       11.0  \n",
       "1                           630000  Disrupt NYC       11.0  \n",
       "2                                0   Disrupt SF        8.0  \n",
       "3                             1000   Disrupt NY        8.0  \n",
       "4                                0  Disrupt NYC       11.0  \n",
       "..                             ...           ...       ...  \n",
       "657                           8000         TC40       17.0  \n",
       "658                           1000                     0.0  \n",
       "659                         223000         TC40       17.0  \n",
       "660                           3400   Disrupt SF       11.0  \n",
       "661                          31500   Disrupt SF       12.0  \n",
       "\n",
       "[662 rows x 7 columns]"
      ]
     },
     "execution_count": 13,
     "metadata": {},
     "output_type": "execute_result"
    }
   ],
   "source": [
    "clean_data"
   ]
  },
  {
   "cell_type": "markdown",
   "metadata": {},
   "source": [
    "Q1 - IS THERE ANY SIGNIFICANT DIFFERENCE BETWEEN FUNDS RAISED BY COMPANIES THAT ARE STILL OPERATING VS COMPANIES THAT CLOSED DOWN?"
   ]
  },
  {
   "cell_type": "code",
   "execution_count": 14,
   "metadata": {},
   "outputs": [
    {
     "data": {
      "image/png": "[encoded data removed]",
      "text/plain": [
       "<Figure size 1000x600 with 1 Axes>"
      ]
     },
     "metadata": {},
     "output_type": "display_data"
    }
   ],
   "source": [
    "value_counts = clean_data['OperatingState'].value_counts()\n",
    "\n",
    "#plotting of the counts\n",
    "plt.figure(figsize=(10, 6))\n",
    "bars = plt.barh(value_counts.index, value_counts.values, color='skyblue')\n",
    "plt.title('Value Counts of Operating State')\n",
    "plt.xlabel('Counts')\n",
    "plt.ylabel('Operating State')\n",
    "plt.grid(axis='x')\n",
    "\n",
    "# Adding text labels on each bar\n",
    "for bar in bars:\n",
    "    plt.text(bar.get_width(), bar.get_y() + bar.get_height()/2, \n",
    "             f'{int(bar.get_width())}', va='center', ha='left')\n",
    "\n",
    "plt.show()"
   ]
  },
  {
   "cell_type": "code",
   "execution_count": 15,
   "metadata": {},
   "outputs": [
    {
     "data": {
      "image/png": "[encoded data removed]",
      "text/plain": [
       "<Figure size 1000x600 with 1 Axes>"
      ]
     },
     "metadata": {},
     "output_type": "display_data"
    }
   ],
   "source": [
    "#finding the difference in funding amounts of various companies\n",
    "\n",
    "sum1 = clean_data.loc[clean_data['OperatingState'] == 'Operating','Funding (in thousand dollars)'].sum()\n",
    "sum2 = clean_data.loc[clean_data['OperatingState'] == 'Closed','Funding (in thousand dollars)'].sum()\n",
    "sum3 = clean_data.loc[clean_data['OperatingState'] == 'Ipo','Funding (in thousand dollars)'].sum()\n",
    "sum4 = clean_data.loc[clean_data['OperatingState'] == 'Acquired','Funding (in thousand dollars)'].sum()\n",
    "\n",
    "# Extracting keys and values\n",
    "operating_state = ['Operating','Closed','Ipo','Acquired']\n",
    "funding_amount = [sum1,sum2,sum4,sum3]\n",
    "\n",
    "# Plotting\n",
    "plt.figure(figsize=(10, 6))\n",
    "bars = plt.barh(operating_state, funding_amount, color='skyblue')\n",
    "plt.title('Funding vs Operating State')\n",
    "plt.xlabel('Funding Amount in thousands USD')\n",
    "plt.ylabel('Operating State')\n",
    "plt.grid(axis='x')\n",
    "\n",
    "# Adding text labels on each bar\n",
    "for bar in bars:\n",
    "    plt.text(bar.get_width(), bar.get_y() + bar.get_height()/2, \n",
    "             f'{bar.get_width()}', va='center', ha='left')\n",
    "\n",
    "plt.show()\n"
   ]
  },
  {
   "cell_type": "markdown",
   "metadata": {},
   "source": [
    "As we can see that the funding has a significant difference between the companies that are in 'Closed' state vs the one that are in 'Operating' State. Before sending this data for training, it is advised to upsample the data related to 'Closed' state so that the training of the model is not biased while learning from the training data.\n",
    "\n",
    "\n",
    "\n"
   ]
  },
  {
   "cell_type": "markdown",
   "metadata": {},
   "source": [
    "Q2 - WRITE THE NULL HYPOTHESIS AND ALTERNATIVE HYPOTHESIS"
   ]
  },
  {
   "cell_type": "code",
   "execution_count": 16,
   "metadata": {},
   "outputs": [
    {
     "name": "stdout",
     "output_type": "stream",
     "text": [
      "\n",
      "DataFrame with Binned Numeric Feature:\n",
      "\n",
      "Contingency Table:\n",
      "OperatingState        Acquired  Closed  Ipo  Operating\n",
      "NumericFeatureBinned                                  \n",
      "Low                         62      42    3        270\n",
      "Medium                       2       8    1         29\n",
      "High                         2       8    0         21\n",
      "\n",
      "Chi-Square Test Results:\n",
      "Critical Value: 12.591587243743977\n",
      "Chi2 Statistic: 12.753667036107872\n",
      "P-Value: 0.047118849657972264\n",
      "Degrees of Freedom: 6\n",
      "Expected Frequencies Table:\n",
      "[[ 55.54017857  48.80803571   3.36607143 269.28571429]\n",
      " [  5.89285714   5.17857143   0.35714286  28.57142857]\n",
      " [  4.56696429   4.01339286   0.27678571  22.14285714]]\n"
     ]
    },
    {
     "name": "stderr",
     "output_type": "stream",
     "text": [
      "/var/folders/qd/0lrktpjd7vx07f15zzz6l5vw0000gn/T/ipykernel_42744/1658262450.py:6: SettingWithCopyWarning: \n",
      "A value is trying to be set on a copy of a slice from a DataFrame.\n",
      "Try using .loc[row_indexer,col_indexer] = value instead\n",
      "\n",
      "See the caveats in the documentation: https://pandas.pydata.org/pandas-docs/stable/user_guide/indexing.html#returning-a-view-versus-a-copy\n",
      "  df['NumericFeatureBinned'] = pd.cut(df['Funding (in thousand dollars)'], bins=[0, 330000,660000 ,990000 ], labels=['Low', 'Medium', 'High'])\n"
     ]
    }
   ],
   "source": [
    "#checking the dependency between Funding and Operating State columns using Chi-test analysis\n",
    "from scipy import stats\n",
    "\n",
    "df = clean_data[['Funding (in thousand dollars)','OperatingState']]\n",
    "# Binning the numeric feature into categories\n",
    "df['NumericFeatureBinned'] = pd.cut(df['Funding (in thousand dollars)'], bins=[0, 330000,660000 ,990000 ], labels=['Low', 'Medium', 'High'])\n",
    "print(\"\\nDataFrame with Binned Numeric Feature:\")\n",
    "\n",
    "# Creating a contingency table\n",
    "contingency_table = pd.crosstab(df['NumericFeatureBinned'], df['OperatingState'])\n",
    "print(\"\\nContingency Table:\")\n",
    "print(contingency_table)\n",
    "\n",
    "# Performing Chi-Square Test\n",
    "chi2, p, dof, expected = stats.chi2_contingency(contingency_table)\n",
    "critical_value = stats.chi2.ppf(1 - 0.05, dof)\n",
    "print(\"\\nChi-Square Test Results:\")\n",
    "print (f\"Critical Value: {critical_value}\")\n",
    "print(f\"Chi2 Statistic: {chi2}\")\n",
    "print(f\"P-Value: {p}\")\n",
    "print(f\"Degrees of Freedom: {dof}\")\n",
    "print(\"Expected Frequencies Table:\")\n",
    "print(expected)"
   ]
  },
  {
   "cell_type": "markdown",
   "metadata": {},
   "source": [
    "Q3- TEST FOR SIGNIFICANCE AND CONCLUSION - \n",
    "since the chi2-statistic is larger than the critical value & p-value is less than 0.05(5% of false positives is considered), null hypothesis can be rejected and there is association between the two"
   ]
  },
  {
   "cell_type": "markdown",
   "metadata": {},
   "source": [
    "Q4 - MAKE A COPY OF THE DATAFRAME"
   ]
  },
  {
   "cell_type": "code",
   "execution_count": 17,
   "metadata": {},
   "outputs": [],
   "source": [
    "#deep copy of the dataframe\n",
    "deep_copy_clean_data = clean_data.copy(deep=True)\n",
    "\n",
    "#shallow copy of the dataframe\n",
    "shallow_copy_clean_data = clean_data.copy()"
   ]
  },
  {
   "cell_type": "markdown",
   "metadata": {},
   "source": [
    "Q5 CHECK FREQUENCY DISTRIBUTION OF RESULT VARIABLES"
   ]
  },
  {
   "cell_type": "code",
   "execution_count": 18,
   "metadata": {},
   "outputs": [
    {
     "name": "stdout",
     "output_type": "stream",
     "text": [
      "Result\n",
      "Contestant         488\n",
      "Finalist            84\n",
      "Audience choice     41\n",
      "Winner              26\n",
      "Runner up           23\n",
      "Name: count, dtype: int64\n"
     ]
    }
   ],
   "source": [
    "result_counts = clean_data['Result'].value_counts()\n",
    "print (result_counts)"
   ]
  },
  {
   "cell_type": "code",
   "execution_count": 19,
   "metadata": {},
   "outputs": [
    {
     "data": {
      "image/png": "[encoded data removed]",
      "text/plain": [
       "<Figure size 800x600 with 1 Axes>"
      ]
     },
     "metadata": {},
     "output_type": "display_data"
    }
   ],
   "source": [
    "# Plotting\n",
    "plt.figure(figsize=(8, 6))\n",
    "bars = result_counts.plot(kind='bar', color='skyblue')\n",
    "\n",
    "# Annotate each bar with its count\n",
    "for bar in bars.patches:\n",
    "    plt.annotate(format(bar.get_height(), '.0f'),\n",
    "                 (bar.get_x() + bar.get_width() / 2, bar.get_height()),\n",
    "                 ha='center', va='bottom', fontsize=10, color='black')\n",
    "\n",
    "plt.title('Value Counts of Result')\n",
    "plt.xlabel('Result')\n",
    "plt.ylabel('Counts')\n",
    "plt.xticks(rotation=0)\n",
    "plt.grid(axis='y', linestyle='--', alpha=0.7)\n",
    "plt.show()"
   ]
  },
  {
   "cell_type": "markdown",
   "metadata": {},
   "source": [
    "Q6 - CALCULATE PERCENTAGE OF WINNERS THAT ARE STILL OPERATING AND PERCENTAGE OF CONTESTANTS THAT ARE STILL OPERATING "
   ]
  },
  {
   "cell_type": "code",
   "execution_count": 20,
   "metadata": {},
   "outputs": [
    {
     "name": "stdout",
     "output_type": "stream",
     "text": [
      "The percentage of winners in operating state : 4.086021505376344\n",
      "The percentage of contestants in operating state:71.3978494623656\n"
     ]
    }
   ],
   "source": [
    "#percentage of winners in operating state - (winners in operating state / all startups in operating state) *100\n",
    "operating_winners_count = clean_data[(clean_data['Result']=='Winner') & (clean_data['OperatingState'] == 'Operating')].shape[0]\n",
    "operating_total_count = clean_data[clean_data['OperatingState'] == 'Operating'].shape[0]\n",
    "percentage_winners_operating_state = ((operating_winners_count)/(operating_total_count)) * 100\n",
    "print (f\"The percentage of winners in operating state : {percentage_winners_operating_state}\")\n",
    "\n",
    "#percentage of contestants in operating state - (contestants in operating state / all startups in operating state) *100\n",
    "operating_contestants_count = clean_data[(clean_data['Result']=='Contestant') & (clean_data['OperatingState'] == 'Operating')].shape[0]\n",
    "percentage_contestants_operating_state = ((operating_contestants_count)/(operating_total_count)) * 100\n",
    "print (f\"The percentage of contestants in operating state:{percentage_contestants_operating_state}\")"
   ]
  },
  {
   "cell_type": "markdown",
   "metadata": {},
   "source": [
    "Q7 - WRITE YOUR HYPOTHESIS COMPARING THE PROPORTION OF COMPANIES THAT ARE OPERATING BETWEEN WINNERS AND CONTESTANTS"
   ]
  },
  {
   "cell_type": "code",
   "execution_count": 27,
   "metadata": {},
   "outputs": [],
   "source": [
    "company_winner = clean_data[clean_data['Result'] == 'Winner']\n",
    "company_winner_operating = clean_data[(clean_data['OperatingState'] == 'Operating') & (clean_data['Result'] == 'Winner')]\n",
    "\n",
    "company_contestant = clean_data[clean_data['Result'] == 'Contestant']\n",
    "company_contestant_operating = clean_data[(clean_data['OperatingState'] == 'Operating') & (clean_data['Result'] == 'Contestant')]"
   ]
  },
  {
   "cell_type": "code",
   "execution_count": 29,
   "metadata": {},
   "outputs": [
    {
     "name": "stdout",
     "output_type": "stream",
     "text": [
      "Company in operating state with winners : 0.7307692307692307\n",
      "Company in operating state with contestants : 0.680327868852459\n"
     ]
    }
   ],
   "source": [
    "print (f\"Company in operating state with winners : {company_winner_operating.shape[0]/ company_winner.shape[0]}\")\n",
    "\n",
    "print (f\"Company in operating state with contestants : {company_contestant_operating.shape[0]/company_contestant.shape[0]}\")"
   ]
  },
  {
   "cell_type": "markdown",
   "metadata": {},
   "source": [
    "Q8 - TEST FOR SIGNIFICANCE AND CONCLUSION\n",
    "\n",
    "There is not a lot of difference in the proportion of company in operating with winners and company in operating state with contestants. Therefore null hypothesis is applicable and alternate hypothesis can be rejected  "
   ]
  },
  {
   "cell_type": "markdown",
   "metadata": {},
   "source": [
    "Q9 - SELECT ONLY THE EVENT THAT HAS ‘DISRUPT’ KEYWORD FROM 2013 ONWARDS"
   ]
  },
  {
   "cell_type": "code",
   "execution_count": 30,
   "metadata": {},
   "outputs": [
    {
     "data": {
      "text/html": [
       "<div>\n",
       "<style scoped>\n",
       "    .dataframe tbody tr th:only-of-type {\n",
       "        vertical-align: middle;\n",
       "    }\n",
       "\n",
       "    .dataframe tbody tr th {\n",
       "        vertical-align: top;\n",
       "    }\n",
       "\n",
       "    .dataframe thead th {\n",
       "        text-align: right;\n",
       "    }\n",
       "</style>\n",
       "<table border=\"1\" class=\"dataframe\">\n",
       "  <thead>\n",
       "    <tr style=\"text-align: right;\">\n",
       "      <th></th>\n",
       "      <th>Startup</th>\n",
       "      <th>Product</th>\n",
       "      <th>Result</th>\n",
       "      <th>OperatingState</th>\n",
       "      <th>Funding (in thousand dollars)</th>\n",
       "      <th>EventName</th>\n",
       "      <th>EventAge</th>\n",
       "    </tr>\n",
       "  </thead>\n",
       "  <tbody>\n",
       "    <tr>\n",
       "      <th>0</th>\n",
       "      <td>2600Hz</td>\n",
       "      <td>2600hz.com</td>\n",
       "      <td>Contestant</td>\n",
       "      <td>Operating</td>\n",
       "      <td>0</td>\n",
       "      <td>Disrupt SF</td>\n",
       "      <td>11.0</td>\n",
       "    </tr>\n",
       "    <tr>\n",
       "      <th>1</th>\n",
       "      <td>3DLT</td>\n",
       "      <td>3dlt.com</td>\n",
       "      <td>Contestant</td>\n",
       "      <td>Closed</td>\n",
       "      <td>630000</td>\n",
       "      <td>Disrupt NYC</td>\n",
       "      <td>11.0</td>\n",
       "    </tr>\n",
       "    <tr>\n",
       "      <th>2</th>\n",
       "      <td>3DPrinterOS</td>\n",
       "      <td>3dprinteros.com</td>\n",
       "      <td>Contestant</td>\n",
       "      <td>Operating</td>\n",
       "      <td>0</td>\n",
       "      <td>Disrupt SF</td>\n",
       "      <td>8.0</td>\n",
       "    </tr>\n",
       "    <tr>\n",
       "      <th>3</th>\n",
       "      <td>3Dprintler</td>\n",
       "      <td>3dprintler.com</td>\n",
       "      <td>Audience choice</td>\n",
       "      <td>Operating</td>\n",
       "      <td>1000</td>\n",
       "      <td>Disrupt NY</td>\n",
       "      <td>8.0</td>\n",
       "    </tr>\n",
       "    <tr>\n",
       "      <th>4</th>\n",
       "      <td>42 Technologies</td>\n",
       "      <td>42technologies.com</td>\n",
       "      <td>Contestant</td>\n",
       "      <td>Operating</td>\n",
       "      <td>0</td>\n",
       "      <td>Disrupt NYC</td>\n",
       "      <td>11.0</td>\n",
       "    </tr>\n",
       "    <tr>\n",
       "      <th>...</th>\n",
       "      <td>...</td>\n",
       "      <td>...</td>\n",
       "      <td>...</td>\n",
       "      <td>...</td>\n",
       "      <td>...</td>\n",
       "      <td>...</td>\n",
       "      <td>...</td>\n",
       "    </tr>\n",
       "    <tr>\n",
       "      <th>657</th>\n",
       "      <td>Zivity</td>\n",
       "      <td>zivity.com</td>\n",
       "      <td>Contestant</td>\n",
       "      <td>Operating</td>\n",
       "      <td>8000</td>\n",
       "      <td>TC40</td>\n",
       "      <td>17.0</td>\n",
       "    </tr>\n",
       "    <tr>\n",
       "      <th>658</th>\n",
       "      <td>Zmorph</td>\n",
       "      <td>zmorph3d.com</td>\n",
       "      <td>Audience choice</td>\n",
       "      <td>Operating</td>\n",
       "      <td>1000</td>\n",
       "      <td></td>\n",
       "      <td>0.0</td>\n",
       "    </tr>\n",
       "    <tr>\n",
       "      <th>659</th>\n",
       "      <td>Zocdoc</td>\n",
       "      <td>zocdoc.com</td>\n",
       "      <td>Contestant</td>\n",
       "      <td>Operating</td>\n",
       "      <td>223000</td>\n",
       "      <td>TC40</td>\n",
       "      <td>17.0</td>\n",
       "    </tr>\n",
       "    <tr>\n",
       "      <th>660</th>\n",
       "      <td>Zula</td>\n",
       "      <td>zulaapp.com</td>\n",
       "      <td>Audience choice</td>\n",
       "      <td>Operating</td>\n",
       "      <td>3400</td>\n",
       "      <td>Disrupt SF</td>\n",
       "      <td>11.0</td>\n",
       "    </tr>\n",
       "    <tr>\n",
       "      <th>661</th>\n",
       "      <td>Zumper</td>\n",
       "      <td>zumper.com</td>\n",
       "      <td>Finalist</td>\n",
       "      <td>Operating</td>\n",
       "      <td>31500</td>\n",
       "      <td>Disrupt SF</td>\n",
       "      <td>12.0</td>\n",
       "    </tr>\n",
       "  </tbody>\n",
       "</table>\n",
       "<p>662 rows × 7 columns</p>\n",
       "</div>"
      ],
      "text/plain": [
       "             Startup             Product           Result OperatingState  \\\n",
       "0             2600Hz          2600hz.com       Contestant      Operating   \n",
       "1               3DLT            3dlt.com       Contestant         Closed   \n",
       "2        3DPrinterOS     3dprinteros.com       Contestant      Operating   \n",
       "3         3Dprintler      3dprintler.com  Audience choice      Operating   \n",
       "4    42 Technologies  42technologies.com       Contestant      Operating   \n",
       "..               ...                 ...              ...            ...   \n",
       "657           Zivity          zivity.com       Contestant      Operating   \n",
       "658           Zmorph        zmorph3d.com  Audience choice      Operating   \n",
       "659           Zocdoc          zocdoc.com       Contestant      Operating   \n",
       "660             Zula         zulaapp.com  Audience choice      Operating   \n",
       "661           Zumper          zumper.com         Finalist      Operating   \n",
       "\n",
       "     Funding (in thousand dollars)     EventName  EventAge  \n",
       "0                                0   Disrupt SF       11.0  \n",
       "1                           630000  Disrupt NYC       11.0  \n",
       "2                                0   Disrupt SF        8.0  \n",
       "3                             1000   Disrupt NY        8.0  \n",
       "4                                0  Disrupt NYC       11.0  \n",
       "..                             ...           ...       ...  \n",
       "657                           8000         TC40       17.0  \n",
       "658                           1000                     0.0  \n",
       "659                         223000         TC40       17.0  \n",
       "660                           3400   Disrupt SF       11.0  \n",
       "661                          31500   Disrupt SF       12.0  \n",
       "\n",
       "[662 rows x 7 columns]"
      ]
     },
     "execution_count": 30,
     "metadata": {},
     "output_type": "execute_result"
    }
   ],
   "source": [
    "clean_data"
   ]
  },
  {
   "cell_type": "code",
   "execution_count": 32,
   "metadata": {},
   "outputs": [
    {
     "name": "stdout",
     "output_type": "stream",
     "text": [
      "              Startup             Product           Result OperatingState  \\\n",
      "0              2600Hz          2600hz.com       Contestant      Operating   \n",
      "1                3DLT            3dlt.com       Contestant         Closed   \n",
      "4     42 Technologies  42technologies.com       Contestant      Operating   \n",
      "6        8 Securities     8securities.com         Finalist      Operating   \n",
      "8    About Last Night  aboutlastnight.net       Contestant      Operating   \n",
      "..                ...                 ...              ...            ...   \n",
      "652             Yuwan           iyuwan.cn       Contestant         Closed   \n",
      "654              ZEFR            zefr.com       Contestant      Operating   \n",
      "656          Zenefits        zenefits.com         Finalist      Operating   \n",
      "660              Zula         zulaapp.com  Audience choice      Operating   \n",
      "661            Zumper          zumper.com         Finalist      Operating   \n",
      "\n",
      "     Funding (in thousand dollars)         EventName  EventAge  \n",
      "0                                0       Disrupt SF       11.0  \n",
      "1                           630000      Disrupt NYC       11.0  \n",
      "4                                0      Disrupt NYC       11.0  \n",
      "6                            29000  Disrupt Beijing       13.0  \n",
      "8                                0      Disrupt NYC       12.0  \n",
      "..                             ...               ...       ...  \n",
      "652                              0  Disrupt Beijing       13.0  \n",
      "654                          62100      Disrupt NYC       14.0  \n",
      "656                         583600      Disrupt NYC       11.0  \n",
      "660                           3400       Disrupt SF       11.0  \n",
      "661                          31500       Disrupt SF       12.0  \n",
      "\n",
      "[266 rows x 7 columns]\n"
     ]
    }
   ],
   "source": [
    "event_company_2013_disrupt = clean_data[(clean_data['EventName'].str.contains('Disrupt')) & (clean_data['EventAge'] >= 2024-2013)]\n",
    "\n",
    "print (event_company_2013_disrupt)"
   ]
  }
 ],
 "metadata": {
  "kernelspec": {
   "display_name": "Python 3",
   "language": "python",
   "name": "python3"
  },
  "language_info": {
   "codemirror_mode": {
    "name": "ipython",
    "version": 3
   },
   "file_extension": ".py",
   "mimetype": "text/x-python",
   "name": "python",
   "nbconvert_exporter": "python",
   "pygments_lexer": "ipython3",
   "version": "3.12.4"
  }
 },
 "nbformat": 4,
 "nbformat_minor": 2
}
